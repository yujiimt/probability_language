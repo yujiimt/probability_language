{
  "nbformat": 4,
  "nbformat_minor": 0,
  "metadata": {
    "colab": {
      "name": "MCMCsampling_in_python.ipynb",
      "provenance": [],
      "authorship_tag": "ABX9TyMVedG10XKUijpItLM1+PgU",
      "include_colab_link": true
    },
    "kernelspec": {
      "name": "python3",
      "display_name": "Python 3"
    }
  },
  "cells": [
    {
      "cell_type": "markdown",
      "metadata": {
        "id": "view-in-github",
        "colab_type": "text"
      },
      "source": [
        "<a href=\"https://colab.research.google.com/github/yujiimt/probability_language/blob/main/python/MCMCsampling_in_python.ipynb\" target=\"_parent\"><img src=\"https://colab.research.google.com/assets/colab-badge.svg\" alt=\"Open In Colab\"/></a>"
      ]
    },
    {
      "cell_type": "code",
      "metadata": {
        "id": "KobTVTYnxAqO"
      },
      "source": [
        "import numpy as np\n",
        "import math \n",
        "np.random.seed(8931)"
      ],
      "execution_count": 20,
      "outputs": []
    },
    {
      "cell_type": "code",
      "metadata": {
        "id": "S8EHWLW1xHsu"
      },
      "source": [
        "data = np.array([0, 1, 1, 1, 1, 0, 1, 1, 0, 1])"
      ],
      "execution_count": 3,
      "outputs": []
    },
    {
      "cell_type": "code",
      "metadata": {
        "id": "j7IxwEw3xaMb"
      },
      "source": [
        "# 確率密度関数を定義する\n",
        "def L_Bern(x, q):\n",
        "  func = q**sum(x)*(1 - q)*(len(x) - sum(x))\n",
        "  return func"
      ],
      "execution_count": 14,
      "outputs": []
    },
    {
      "cell_type": "code",
      "metadata": {
        "id": "UvQoec-lyGOp"
      },
      "source": [
        "def Beta(theta, a, b):\n",
        "  B = math.gamma(a) * math.gamma(b) / math.gamma(a + b)\n",
        "  func = (theta ** (a - 1)) * ((1 - theta) ** (b -1)) / B\n",
        "  return func"
      ],
      "execution_count": 7,
      "outputs": []
    },
    {
      "cell_type": "code",
      "metadata": {
        "id": "GZrfWlE7z-ge"
      },
      "source": [
        "def joint(x, q):\n",
        "  func = L_Bern(x, q) * Beta(q, 1, 1)\n",
        "  return func"
      ],
      "execution_count": 8,
      "outputs": []
    },
    {
      "cell_type": "code",
      "metadata": {
        "id": "KXf9hLR50S87"
      },
      "source": [
        "def Metropolis(c):\n",
        "  propose = np.random.uniform(1, 0, 1)\n",
        "  r = joint(data, propose) / joint(data, c)\n",
        "  pmove = min(r, 1)\n",
        "  if pmove >= propose:\n",
        "    return propose\n",
        "  else:\n",
        "    return c"
      ],
      "execution_count": 22,
      "outputs": []
    },
    {
      "cell_type": "code",
      "metadata": {
        "colab": {
          "base_uri": "https://localhost:8080/"
        },
        "id": "IQX-Ab962YC6",
        "outputId": "65577f9e-eb11-4e22-9d9e-c58a420653f0"
      },
      "source": [
        "Metropolis(0.5)"
      ],
      "execution_count": 28,
      "outputs": [
        {
          "output_type": "execute_result",
          "data": {
            "text/plain": [
              "array([0.55381235])"
            ]
          },
          "metadata": {
            "tags": []
          },
          "execution_count": 28
        }
      ]
    },
    {
      "cell_type": "code",
      "metadata": {
        "id": "YAEmLfJd5EXO"
      },
      "source": [
        "n_steps = 110000\n",
        "mcmc_sample = []\n",
        "for i in np.arange(n_steps):\n",
        "  m = Metropolis(0.5)\n",
        "  mcmc_sample.append(m)"
      ],
      "execution_count": 36,
      "outputs": []
    },
    {
      "cell_type": "code",
      "metadata": {
        "colab": {
          "base_uri": "https://localhost:8080/"
        },
        "id": "1ng6r6kC5iC7",
        "outputId": "f979d662-fea6-49e0-f61c-85969748e3f0"
      },
      "source": [
        "max(mcmc_sample)"
      ],
      "execution_count": 37,
      "outputs": [
        {
          "output_type": "execute_result",
          "data": {
            "text/plain": [
              "array([0.99597641])"
            ]
          },
          "metadata": {
            "tags": []
          },
          "execution_count": 37
        }
      ]
    },
    {
      "cell_type": "code",
      "metadata": {
        "colab": {
          "base_uri": "https://localhost:8080/"
        },
        "id": "VF-ZSuubC1O9",
        "outputId": "e9c5a88a-2585-4235-bfa9-25e714f86d75"
      },
      "source": [
        "len(mcmc_sample)"
      ],
      "execution_count": 38,
      "outputs": [
        {
          "output_type": "execute_result",
          "data": {
            "text/plain": [
              "110000"
            ]
          },
          "metadata": {
            "tags": []
          },
          "execution_count": 38
        }
      ]
    },
    {
      "cell_type": "code",
      "metadata": {
        "id": "xLSgPFjIDaa7"
      },
      "source": [
        ""
      ],
      "execution_count": null,
      "outputs": []
    }
  ]
}