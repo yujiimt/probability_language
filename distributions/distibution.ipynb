{
  "nbformat": 4,
  "nbformat_minor": 0,
  "metadata": {
    "colab": {
      "name": "distibution.ipynb",
      "provenance": [],
      "authorship_tag": "ABX9TyOfeY1d1iS0Bs9FSfy5Z8hJ",
      "include_colab_link": true
    },
    "kernelspec": {
      "name": "python3",
      "display_name": "Python 3"
    }
  },
  "cells": [
    {
      "cell_type": "markdown",
      "metadata": {
        "id": "view-in-github",
        "colab_type": "text"
      },
      "source": [
        "<a href=\"https://colab.research.google.com/github/yujiimt/probability_language/blob/main/distributions/distibution.ipynb\" target=\"_parent\"><img src=\"https://colab.research.google.com/assets/colab-badge.svg\" alt=\"Open In Colab\"/></a>"
      ]
    },
    {
      "cell_type": "code",
      "metadata": {
        "id": "bVJjkCPgDdGR"
      },
      "source": [
        "import warnings\n",
        "import numpy as np\n",
        "import os\n",
        "import matplotlib.pyplot as plt;\n",
        "import matplotlib.axes as axes;\n",
        "from matplotlib.patches import Ellipse\n",
        "import seaborn as sns; sns.set_context('notebook')\n",
        "from IPython.core.pylabtools import figsize\n",
        "import sympy as sym\n",
        "import tensorflow as tf\n",
        "\n",
        "import tensorflow_probability as tfp\n",
        "tfd = tfp.distributions\n",
        "\n",
        "import matplotlib.pyplot as plt\n",
        "\n",
        "%matplotlib inline"
      ],
      "execution_count": null,
      "outputs": []
    },
    {
      "cell_type": "code",
      "metadata": {
        "id": "bRDQdXKWH4MV"
      },
      "source": [
        "c = [1,1,0,0,0,0,0,0,0,0]"
      ],
      "execution_count": null,
      "outputs": []
    },
    {
      "cell_type": "code",
      "metadata": {
        "id": "ji7pYsXZJajW"
      },
      "source": [
        "def ber_test(c, q):\n",
        "  cou = c.count(1)\n",
        "  all = len(c) - cou\n",
        "  prob = q**cou * (1 - q) ** all\n",
        "  return prob"
      ],
      "execution_count": null,
      "outputs": []
    },
    {
      "cell_type": "code",
      "metadata": {
        "id": "QnN_MjtcKGze",
        "outputId": "2bff6d4f-77ce-4f2c-ca3a-f707f8e69260",
        "colab": {
          "base_uri": "https://localhost:8080/"
        }
      },
      "source": [
        "ber_test(c, 0.3)"
      ],
      "execution_count": null,
      "outputs": [
        {
          "output_type": "execute_result",
          "data": {
            "text/plain": [
              "0.005188320899999997"
            ]
          },
          "metadata": {
            "tags": []
          },
          "execution_count": 53
        }
      ]
    },
    {
      "cell_type": "code",
      "metadata": {
        "id": "XiVHTAdHKIqv",
        "outputId": "b12952fb-55df-4f1e-8af7-054f26cb9d92",
        "colab": {
          "base_uri": "https://localhost:8080/"
        }
      },
      "source": [
        "ber_test(c, 0.4)"
      ],
      "execution_count": null,
      "outputs": [
        {
          "output_type": "execute_result",
          "data": {
            "text/plain": [
              "0.0026873855999999994"
            ]
          },
          "metadata": {
            "tags": []
          },
          "execution_count": 54
        }
      ]
    },
    {
      "cell_type": "code",
      "metadata": {
        "id": "MW7dT2hAKaJV",
        "outputId": "92d0b3d3-c4b6-422f-fb85-0d2a3ccf1468",
        "colab": {
          "base_uri": "https://localhost:8080/"
        }
      },
      "source": [
        "ber_test(c, 0.2)"
      ],
      "execution_count": null,
      "outputs": [
        {
          "output_type": "execute_result",
          "data": {
            "text/plain": [
              "0.006710886400000005"
            ]
          },
          "metadata": {
            "tags": []
          },
          "execution_count": 57
        }
      ]
    },
    {
      "cell_type": "code",
      "metadata": {
        "id": "itJvptSe0LDX"
      },
      "source": [
        "x = [\n",
        "     3,1,3,1,2,4,4,5,5,\n",
        "     3,1,8,0,1,0,2,2,2,\n",
        "     5,3,2,1,3,1,2,2,5,\n",
        "     2,3,2\n",
        "]"
      ],
      "execution_count": null,
      "outputs": []
    },
    {
      "cell_type": "code",
      "metadata": {
        "id": "gBu2T7r80gKr",
        "outputId": "acc277c8-3e34-4997-d077-371857db1770",
        "colab": {
          "base_uri": "https://localhost:8080/"
        }
      },
      "source": [
        "len(x)"
      ],
      "execution_count": null,
      "outputs": [
        {
          "output_type": "execute_result",
          "data": {
            "text/plain": [
              "30"
            ]
          },
          "metadata": {
            "tags": []
          },
          "execution_count": 2
        }
      ]
    },
    {
      "cell_type": "code",
      "metadata": {
        "id": "-5tCQDLv0yHq",
        "outputId": "98771b87-f7f1-4819-8b2e-28e8bacde126",
        "colab": {
          "base_uri": "https://localhost:8080/",
          "height": 319
        }
      },
      "source": [
        "plt.hist(x)"
      ],
      "execution_count": null,
      "outputs": [
        {
          "output_type": "execute_result",
          "data": {
            "text/plain": [
              "(array([2., 6., 9., 6., 0., 2., 4., 0., 0., 1.]),\n",
              " array([0. , 0.8, 1.6, 2.4, 3.2, 4. , 4.8, 5.6, 6.4, 7.2, 8. ]),\n",
              " <a list of 10 Patch objects>)"
            ]
          },
          "metadata": {
            "tags": []
          },
          "execution_count": 15
        },
        {
          "output_type": "display_data",
          "data": {
            "image/png": "[encoded data removed]",
            "text/plain": [
              "<Figure size 432x288 with 1 Axes>"
            ]
          },
          "metadata": {
            "tags": [],
            "needs_background": "light"
          }
        }
      ]
    },
    {
      "cell_type": "code",
      "metadata": {
        "id": "M1vJ7kT01qjm",
        "outputId": "a7d4164f-37e0-471c-9016-7578989cf00b",
        "colab": {
          "base_uri": "https://localhost:8080/"
        }
      },
      "source": [
        "np.sum(x) / len(x)"
      ],
      "execution_count": null,
      "outputs": [
        {
          "output_type": "execute_result",
          "data": {
            "text/plain": [
              "2.6"
            ]
          },
          "metadata": {
            "tags": []
          },
          "execution_count": 16
        }
      ]
    },
    {
      "cell_type": "code",
      "metadata": {
        "id": "SJ0L7FY04fPg"
      },
      "source": [
        ""
      ],
      "execution_count": null,
      "outputs": []
    }
  ]
}