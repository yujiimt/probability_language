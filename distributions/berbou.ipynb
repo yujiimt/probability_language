{
  "nbformat": 4,
  "nbformat_minor": 0,
  "metadata": {
    "colab": {
      "name": "berbou.ipynb",
      "provenance": [],
      "authorship_tag": "ABX9TyMvw+xCh5Lv3vhUbz8swZRr",
      "include_colab_link": true
    },
    "kernelspec": {
      "name": "python3",
      "display_name": "Python 3"
    }
  },
  "cells": [
    {
      "cell_type": "markdown",
      "metadata": {
        "id": "view-in-github",
        "colab_type": "text"
      },
      "source": [
        "<a href=\"https://colab.research.google.com/github/yujiimt/probability_language/blob/main/distributions/berbou.ipynb\" target=\"_parent\"><img src=\"https://colab.research.google.com/assets/colab-badge.svg\" alt=\"Open In Colab\"/></a>"
      ]
    },
    {
      "cell_type": "code",
      "metadata": {
        "id": "bVJjkCPgDdGR"
      },
      "source": [
        "import warnings\n",
        "import numpy as np\n",
        "import os\n",
        "import matplotlib.pyplot as plt;\n",
        "import matplotlib.axes as axes;\n",
        "from matplotlib.patches import Ellipse\n",
        "import seaborn as sns; sns.set_context('notebook')\n",
        "from IPython.core.pylabtools import figsize\n",
        "import sympy as sym\n",
        "import tensorflow as tf\n",
        "\n",
        "import tensorflow_probability as tfp\n",
        "tfd = tfp.distributions"
      ],
      "execution_count": 82,
      "outputs": []
    },
    {
      "cell_type": "code",
      "metadata": {
        "id": "bRDQdXKWH4MV"
      },
      "source": [
        "c = [1,1,0,0,0,0,0,0,0,0]"
      ],
      "execution_count": 49,
      "outputs": []
    },
    {
      "cell_type": "code",
      "metadata": {
        "id": "ji7pYsXZJajW"
      },
      "source": [
        "def ber_test(c, q):\n",
        "  cou = c.count(1)\n",
        "  all = len(c) - cou\n",
        "  prob = q**cou * (1 - q) ** all\n",
        "  return prob"
      ],
      "execution_count": 52,
      "outputs": []
    },
    {
      "cell_type": "code",
      "metadata": {
        "id": "QnN_MjtcKGze",
        "outputId": "2bff6d4f-77ce-4f2c-ca3a-f707f8e69260",
        "colab": {
          "base_uri": "https://localhost:8080/"
        }
      },
      "source": [
        "ber_test(c, 0.3)"
      ],
      "execution_count": 53,
      "outputs": [
        {
          "output_type": "execute_result",
          "data": {
            "text/plain": [
              "0.005188320899999997"
            ]
          },
          "metadata": {
            "tags": []
          },
          "execution_count": 53
        }
      ]
    },
    {
      "cell_type": "code",
      "metadata": {
        "id": "XiVHTAdHKIqv",
        "outputId": "b12952fb-55df-4f1e-8af7-054f26cb9d92",
        "colab": {
          "base_uri": "https://localhost:8080/"
        }
      },
      "source": [
        "ber_test(c, 0.4)"
      ],
      "execution_count": 54,
      "outputs": [
        {
          "output_type": "execute_result",
          "data": {
            "text/plain": [
              "0.0026873855999999994"
            ]
          },
          "metadata": {
            "tags": []
          },
          "execution_count": 54
        }
      ]
    },
    {
      "cell_type": "code",
      "metadata": {
        "id": "MW7dT2hAKaJV",
        "outputId": "92d0b3d3-c4b6-422f-fb85-0d2a3ccf1468",
        "colab": {
          "base_uri": "https://localhost:8080/"
        }
      },
      "source": [
        "ber_test(c, 0.2)"
      ],
      "execution_count": 57,
      "outputs": [
        {
          "output_type": "execute_result",
          "data": {
            "text/plain": [
              "0.006710886400000005"
            ]
          },
          "metadata": {
            "tags": []
          },
          "execution_count": 57
        }
      ]
    }
  ]
}